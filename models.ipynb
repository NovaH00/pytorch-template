{
 "cells": [
  {
   "cell_type": "markdown",
   "metadata": {},
   "source": [
    "### Đây là file chứa các model của chúng ta, các model nên được đặt ở một file riêng biệt rồi sau đó import vào những nơi cần dùng để cho việc quản lý các model phức tạp trở nên đơn giản và dễ dàng hơn"
   ]
  },
  {
   "cell_type": "markdown",
   "metadata": {},
   "source": [
    "Phần import các module của pytorch"
   ]
  },
  {
   "cell_type": "code",
   "execution_count": 10,
   "metadata": {},
   "outputs": [],
   "source": [
    "import torch\n",
    "import torch.nn as nn\n",
    "from torchvision.models import resnet50, ResNet50_Weights"
   ]
  },
  {
   "cell_type": "markdown",
   "metadata": {},
   "source": [
    "### 1. Ví dụ về tạo model"
   ]
  },
  {
   "cell_type": "markdown",
   "metadata": {},
   "source": [
    "1.1 Model tùy chỉnh có hai lớp: Lớp tích chập (convolution layer) và lớp kết nối đầy đủ (fully-connected layer)"
   ]
  },
  {
   "cell_type": "code",
   "execution_count": 11,
   "metadata": {},
   "outputs": [],
   "source": [
    "class CustomCNN(nn.Module):\n",
    "    def __init__(self, input_channels=3, input_dim=224, num_class=10):\n",
    "        super().__init__()\n",
    "        self.conv_relu_bn_stack = nn.Sequential(\n",
    "            nn.Conv2d(input_channels, 64, 7, 1, 3),\n",
    "            nn.BatchNorm2d(64),\n",
    "            nn.ReLU(),\n",
    "            \n",
    "            nn.Conv2d(64, 32, 5, 1, 2),\n",
    "            nn.BatchNorm2d(32),\n",
    "            nn.ReLU(),\n",
    "            \n",
    "            nn.Conv2d(32, 16, 3, 1, 1),\n",
    "            nn.BatchNorm2d(16),\n",
    "            nn.ReLU()\n",
    "        )\n",
    "        \n",
    "        self.fc_stack = {\n",
    "            nn.Flatten(),\n",
    "            nn.Linear(input_dim*input_dim*16, 4096),\n",
    "            nn.ReLU(),\n",
    "            nn.Dropout(),\n",
    "            nn.Linear(4096, 1024),\n",
    "            nn.ReLU(),\n",
    "            nn.Linear(1024, num_class)\n",
    "        }\n",
    "        \n",
    "    def forward(self, x):\n",
    "        logits = self.conv_relu_bn_stack(x)\n",
    "        logits = self.fc_stack(logits)\n",
    "        \n",
    "        return logits"
   ]
  },
  {
   "cell_type": "markdown",
   "metadata": {},
   "source": [
    "1.2 Model có sử dụng ResNet-50 để làm xương sống (backbone)"
   ]
  },
  {
   "cell_type": "code",
   "execution_count": 12,
   "metadata": {},
   "outputs": [],
   "source": [
    "class BackboneResNet(nn.Module):\n",
    "    def __init__(self, freeze_backbone=True, num_class=10):\n",
    "        super().__init__()\n",
    "        \n",
    "        backbone = resnet50(weights=ResNet50_Weights.DEFAULT)\n",
    "        \n",
    "        # Gỡ lớp kết nối đầy đủ cuối cùng\n",
    "        self.backbone = nn.Sequential(*list(backbone.children())[:-1])\n",
    "        \n",
    "        # Đóng băng các tham số của backbone ResNet-50 để giữ lại tính năng lọc chi tiết của ResNet\n",
    "        if freeze_backbone:\n",
    "            for param in self.backbone.parameters():\n",
    "                param.requires_grad = False\n",
    "        \n",
    "        # Thay thế lớp fc đã gỡ với một lớp fc mới\n",
    "        self.fc = nn.Sequential(\n",
    "            nn.Flatten(),\n",
    "            nn.Linear(2048, 512),\n",
    "            nn.ReLU(inplace=True),\n",
    "            nn.Linear(512, num_class)\n",
    "        )\n",
    "        \n",
    "    \n",
    "    def forward(self, x):\n",
    "        x = self.backbone(x)\n",
    "        x = self.fc(x)\n",
    "        \n",
    "        return x"
   ]
  },
  {
   "cell_type": "markdown",
   "metadata": {},
   "source": [
    "### 2. Ví dụ về cách sử dụng model đã được tạo"
   ]
  },
  {
   "cell_type": "markdown",
   "metadata": {},
   "source": [
    "2.1 Khởi tạo model custom để train trên dataset MNIST"
   ]
  },
  {
   "cell_type": "code",
   "execution_count": 13,
   "metadata": {},
   "outputs": [],
   "source": [
    "input_channels = 1 # Các ảnh trong MNIST đều là ảnh dạng trắng đen\n",
    "input_dim = 28     # Các ảnh trong MNIST có độ phân giải là 28x28\n",
    "num_class = 10     # Các ảnh trong MNIST được chia thành 10 class là 10 sô viết bằng tay từ 0-9\n",
    "\n",
    "MNIST_model = CustomCNN(input_channels, input_dim, num_class)"
   ]
  },
  {
   "cell_type": "markdown",
   "metadata": {},
   "source": [
    "2.2 Khởi tạo model dùng ResNet làm backbone để train trên dataset MNIST"
   ]
  },
  {
   "cell_type": "code",
   "execution_count": null,
   "metadata": {},
   "outputs": [],
   "source": [
    "freeze_backbone = True\n",
    "num_class = 10     # Các ảnh trong MNIST được chia thành 10 class là 10 sô viết bằng tay từ 0-9\n",
    "\n",
    "MNIST_model = BackboneResNet(freeze_backbone, num_class)"
   ]
  }
 ],
 "metadata": {
  "kernelspec": {
   "display_name": "base",
   "language": "python",
   "name": "python3"
  },
  "language_info": {
   "codemirror_mode": {
    "name": "ipython",
    "version": 3
   },
   "file_extension": ".py",
   "mimetype": "text/x-python",
   "name": "python",
   "nbconvert_exporter": "python",
   "pygments_lexer": "ipython3",
   "version": "3.12.3"
  }
 },
 "nbformat": 4,
 "nbformat_minor": 2
}
