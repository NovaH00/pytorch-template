{
 "cells": [
  {
   "cell_type": "markdown",
   "metadata": {},
   "source": [
    "### Trong pytorch, hai class chính quan trọng trong việc xử lý và load dữ liệu là `Dataset` và `DataLoader`"
   ]
  },
  {
   "cell_type": "markdown",
   "metadata": {},
   "source": [
    "#### 1. `Dataset`\n",
    "Một `Dataset` là một class nền tảng để biểu diễn dữ liệu. Bạn cần kế thừa subclass `torch.utils.data.Dataset` để tạo một dataset tùy chỉnh  \n",
    "Class dataset tùy chỉnh đó phải có hai method sau:\n",
    "- `__len__(self)` : Trả về kích thước của dataset\n",
    "\n",
    "- `__getitem__(self, idx)` : Trả về data tại index `idx` \n",
    "\n",
    "Ví dụ về một dataset tùy chỉnh"
   ]
  },
  {
   "cell_type": "code",
   "execution_count": 7,
   "metadata": {},
   "outputs": [],
   "source": [
    "import torch\n",
    "from torch.utils.data import Dataset\n",
    "\n",
    "class CustomDataset(Dataset):\n",
    "    def __init__(self, data, labels, transform=None):\n",
    "        self.data = data                            # Data là một mảng dữ liệu\n",
    "        self.labels = labels                        # Lables là một mảng các nhãn\n",
    "        self.transform = transform\n",
    "    def __len__(self):\n",
    "        return len(self.data)                       # Trả về kích thước dataset\n",
    "\n",
    "    def __getitem__(self, idx):\n",
    "        x = self.data[idx]                          # Lấy dữ liệu tại idx\n",
    "        y = self.labels[idx]                        # Lấy nhãn tương ứng \n",
    "        \n",
    "        if self.transform:\n",
    "            x = self.transform(x)                   # Giả sử phép biến đổi đã có torchvision.transforms.ToTensor()\n",
    "            return x, torch.tensor(y)\n",
    "        else:\n",
    "            return torch.tensor(x), torch.tensor(y)\n",
    "            \n"
   ]
  },
  {
   "cell_type": "markdown",
   "metadata": {},
   "source": [
    "#### 2. `DataLoader`\n",
    "`DataLoader` cung cấp một cách hiệu quả để load dữ liệu thành các lô (batches) và có thể trộn, song song hóa dữ liệu sử dụng nhiều tiền trình con và thêm biến hóa (transformations)  \n",
    "Ví dụ về sử dụng `DataLoader`"
   ]
  },
  {
   "cell_type": "code",
   "execution_count": 8,
   "metadata": {},
   "outputs": [
    {
     "name": "stdout",
     "output_type": "stream",
     "text": [
      "tensor([[3, 4],\n",
      "        [1, 2]])\n",
      "tensor([1, 0])\n",
      "------------\n",
      "tensor([[5, 6]])\n",
      "tensor([0])\n",
      "------------\n"
     ]
    }
   ],
   "source": [
    "from torch.utils.data import DataLoader\n",
    "\n",
    "\n",
    "data = [[1, 2], [3, 4], [5, 6]]\n",
    "labels = [0, 1, 0]\n",
    "\n",
    "\n",
    "dataset = CustomDataset(data, labels)\n",
    "\n",
    "\n",
    "dataloader = DataLoader(dataset, batch_size=2, shuffle=True)\n",
    "\n",
    "\n",
    "for batch_data, batch_labels in dataloader:\n",
    "    print(batch_data)\n",
    "    print(batch_labels)\n",
    "    print(\"------------\")\n"
   ]
  },
  {
   "cell_type": "markdown",
   "metadata": {},
   "source": [
    "Các tham số chính của `DataLoader`\n",
    "- `batch_size` : Kích thước của một lô dữ liệu\n",
    "- `shuffle` : Nếu là `True` thì tiền hành trộn dữ liệu tại điểm khởi đầu của mỗi epoch\n",
    "- `num_worker` : Số lượng tiến trình con dùng để load dữ liệu song song"
   ]
  },
  {
   "cell_type": "markdown",
   "metadata": {},
   "source": [
    "##### Phép biến đổi (transformations) với `DataLoader`\n"
   ]
  },
  {
   "cell_type": "markdown",
   "metadata": {},
   "source": [
    "Đối với dataset là ảnh thì pytorch có hỗ trợ một module `torchvision.transforms` để thực hiện các biến đổi phổ biển  \n",
    "Ví dụ:"
   ]
  },
  {
   "cell_type": "code",
   "execution_count": null,
   "metadata": {},
   "outputs": [],
   "source": [
    "from torchvision import transforms\n",
    "\n",
    "transform = transforms.Compose([\n",
    "    transforms.Resize((256, 256)),\n",
    "    transforms.ToTensor(),\n",
    "])\n",
    "\n",
    "\n",
    "data = [[1, 2], [3, 4], [5, 6]]\n",
    "labels = [0, 1, 0]\n",
    "\n",
    "\n",
    "dataset = CustomDataset(data, labels, transform=transform)\n",
    "dataloader = DataLoader(dataset, batch_size=2, shuffle=True)\n",
    "\n",
    "for batch_data, batch_labels in dataloader:\n",
    "    print(batch_data)\n",
    "    print(batch_labels)\n",
    "    print(\"------------\")"
   ]
  }
 ],
 "metadata": {
  "kernelspec": {
   "display_name": "base",
   "language": "python",
   "name": "python3"
  },
  "language_info": {
   "codemirror_mode": {
    "name": "ipython",
    "version": 3
   },
   "file_extension": ".py",
   "mimetype": "text/x-python",
   "name": "python",
   "nbconvert_exporter": "python",
   "pygments_lexer": "ipython3",
   "version": "3.12.3"
  }
 },
 "nbformat": 4,
 "nbformat_minor": 2
}
